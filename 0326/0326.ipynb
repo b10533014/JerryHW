{
 "cells": [
  {
   "cell_type": "code",
   "execution_count": 63,
   "metadata": {},
   "outputs": [
    {
     "name": "stdout",
     "output_type": "stream",
     "text": [
      "2,3,4\n"
     ]
    },
    {
     "data": {
      "text/plain": [
       "[102, 103, 104]"
      ]
     },
     "execution_count": 63,
     "metadata": {},
     "output_type": "execute_result"
    }
   ],
   "source": [
    "b = list(map(int,input().split(',')))\n",
    "list(map(lambda x: x+100, b))"
   ]
  },
  {
   "cell_type": "code",
   "execution_count": 16,
   "metadata": {},
   "outputs": [],
   "source": [
    "def multiply_it(func):\n",
    "    def a(*args, **kwargs):\n",
    "        result=func(*args, **kwargs)\n",
    "        num=1\n",
    "        for i in result:\n",
    "            num*= i\n",
    "        print('add_ints:',sum(result))\n",
    "        return('multiply_int:',num)\n",
    "    return a\n",
    "\n",
    "@multiply_it\n",
    "def add_ints(a,b):\n",
    "    return(a,b)"
   ]
  },
  {
   "cell_type": "code",
   "execution_count": 77,
   "metadata": {},
   "outputs": [
    {
     "name": "stdout",
     "output_type": "stream",
     "text": [
      "add_ints: 12\n"
     ]
    },
    {
     "data": {
      "text/plain": [
       "('multiply_int:', 20)"
      ]
     },
     "execution_count": 77,
     "metadata": {},
     "output_type": "execute_result"
    }
   ],
   "source": [
    "add_ints(2,10)"
   ]
  },
  {
   "cell_type": "code",
   "execution_count": 40,
   "metadata": {},
   "outputs": [
    {
     "name": "stdout",
     "output_type": "stream",
     "text": [
      "輸入整數3\n",
      "3\n"
     ]
    }
   ],
   "source": [
    "try:\n",
    "    print(int(input('輸入整數')))\n",
    "except:\n",
    "    print('出錯，請從新輸入')"
   ]
  },
  {
   "cell_type": "code",
   "execution_count": 15,
   "metadata": {},
   "outputs": [
    {
     "name": "stdout",
     "output_type": "stream",
     "text": [
      "請輸入+-*/+\n",
      "相加,以逗號分開1,2\n",
      "3\n"
     ]
    }
   ],
   "source": [
    "from source import calc\n",
    "a = input(\"請輸入+-*/\")\n",
    "if a ==\"+\":\n",
    "    calc.add_func()\n",
    "if a ==\"-\":\n",
    "    calc.sub_func()\n",
    "if a ==\"*\":\n",
    "    calc.mult_func()\n",
    "if a ==\"/\":\n",
    "    calc.div_func()\n"
   ]
  },
  {
   "cell_type": "code",
   "execution_count": null,
   "metadata": {},
   "outputs": [],
   "source": []
  }
 ],
 "metadata": {
  "kernelspec": {
   "display_name": "Python 3",
   "language": "python",
   "name": "python3"
  },
  "language_info": {
   "codemirror_mode": {
    "name": "ipython",
    "version": 3
   },
   "file_extension": ".py",
   "mimetype": "text/x-python",
   "name": "python",
   "nbconvert_exporter": "python",
   "pygments_lexer": "ipython3",
   "version": "3.6.4"
  }
 },
 "nbformat": 4,
 "nbformat_minor": 2
}
